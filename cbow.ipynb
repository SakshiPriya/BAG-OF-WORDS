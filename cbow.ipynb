{
  "nbformat": 4,
  "nbformat_minor": 0,
  "metadata": {
    "colab": {
      "name": "cbow.ipynb",
      "version": "0.3.2",
      "provenance": [],
      "collapsed_sections": [],
      "include_colab_link": true
    }
  },
  "cells": [
    {
      "cell_type": "markdown",
      "metadata": {
        "id": "view-in-github",
        "colab_type": "text"
      },
      "source": [
        "[View in Colaboratory](https://colab.research.google.com/github/SakshiPriya/BAG-OF-WORDS/blob/master/cbow.ipynb)"
      ]
    },
    {
      "metadata": {
        "id": "6GtMvJdgDLDM",
        "colab_type": "code",
        "colab": {
          "base_uri": "https://localhost:8080/",
          "height": 138
        },
        "outputId": "73d7c320-3607-473b-a822-4e40c51109cb"
      },
      "cell_type": "code",
      "source": [
        "!pip install torch\n"
      ],
      "execution_count": 1,
      "outputs": [
        {
          "output_type": "stream",
          "text": [
            "Collecting torch\n",
            "\u001b[?25l  Downloading https://files.pythonhosted.org/packages/06/a7/6a173738dd6be014ebf9ba6f0b441d91b113b1506a98e10da4ff60994b54/torch-0.4.1-cp27-cp27mu-manylinux1_x86_64.whl (519.5MB)\n",
            "\u001b[K    100% |████████████████████████████████| 519.5MB 22kB/s \n",
            "tcmalloc: large alloc 1073750016 bytes == 0x56117ab54000 @  0x7f0d94e231c4 0x561121fbd0d8 0x5611220a6d5d 0x561121fd077a 0x561121fd5462 0x561121fcdb3a 0x561121fd582e 0x561121fcdb3a 0x561121fd582e 0x561121fcdb3a 0x561121fd582e 0x561121fcdb3a 0x561121fd5e1f 0x561121fcdb3a 0x561121fd582e 0x561121fcdb3a 0x561121fd582e 0x561121fd5462 0x561121fd5462 0x561121fcdb3a 0x561121fd5e1f 0x561121fd5462 0x561121fcdb3a 0x561121fd5e1f 0x561121fcdb3a 0x561121fd5e1f 0x561121fcdb3a 0x561121fd582e 0x561121fcdb3a 0x561121ffe50f 0x561121ff9202\n",
            "\u001b[?25hInstalling collected packages: torch\n",
            "Successfully installed torch-0.4.1\n"
          ],
          "name": "stdout"
        }
      ]
    },
    {
      "metadata": {
        "id": "bHXK3TPUGL_j",
        "colab_type": "code",
        "colab": {
          "base_uri": "https://localhost:8080/",
          "height": 104
        },
        "outputId": "41be59d6-95c9-447c-dc2b-d464b283c195"
      },
      "cell_type": "code",
      "source": [
        " !apt-get install -y -qq software-properties-common python-software-properties module-init-tools\n",
        " !add-apt-repository -y ppa:alessandro-strada/ppa 2>&1 > /dev/null\n",
        " !apt-get update -qq 2>&1 > /dev/null\n",
        " !apt-get -y install -qq google-drive-ocamlfuse fuse\n",
        " from google.colab import auth\n",
        " auth.authenticate_user()\n",
        " from oauth2client.client import GoogleCredentials\n",
        " creds = GoogleCredentials.get_application_default()\n",
        " import getpass\n",
        " !google-drive-ocamlfuse -headless -id={creds.client_id} -secret={creds.client_secret} < /dev/null 2>&1 | grep URL\n",
        " vcode = getpass.getpass()\n",
        " !echo {vcode} | google-drive-ocamlfuse -headless -id={creds.client_id} -secret={creds.client_secret}"
      ],
      "execution_count": 2,
      "outputs": [
        {
          "output_type": "stream",
          "text": [
            "Please, open the following URL in a web browser: https://accounts.google.com/o/oauth2/auth?client_id=32555940559.apps.googleusercontent.com&redirect_uri=urn%3Aietf%3Awg%3Aoauth%3A2.0%3Aoob&scope=https%3A%2F%2Fwww.googleapis.com%2Fauth%2Fdrive&response_type=code&access_type=offline&approval_prompt=force\r\n",
            "··········\n",
            "Please, open the following URL in a web browser: https://accounts.google.com/o/oauth2/auth?client_id=32555940559.apps.googleusercontent.com&redirect_uri=urn%3Aietf%3Awg%3Aoauth%3A2.0%3Aoob&scope=https%3A%2F%2Fwww.googleapis.com%2Fauth%2Fdrive&response_type=code&access_type=offline&approval_prompt=force\n",
            "Please enter the verification code: Access token retrieved correctly.\n"
          ],
          "name": "stdout"
        }
      ]
    },
    {
      "metadata": {
        "id": "Itp2XtV7GdpJ",
        "colab_type": "code",
        "colab": {}
      },
      "cell_type": "code",
      "source": [
        "!mkdir -p drive\n",
        "!google-drive-ocamlfuse drive"
      ],
      "execution_count": 0,
      "outputs": []
    },
    {
      "metadata": {
        "id": "jh13pk3EG5uu",
        "colab_type": "code",
        "colab": {}
      },
      "cell_type": "code",
      "source": [
        "import torch\n",
        "import torch.nn as nn\n",
        "import torch.nn.functional as f\n",
        "import torch.optim  as optim\n",
        "import unicodedata\n",
        "from io import open\n",
        "import re\n",
        "import numpy as np\n",
        "import matplotlib.pyplot as plt"
      ],
      "execution_count": 0,
      "outputs": []
    },
    {
      "metadata": {
        "id": "eIlQbYftSZlP",
        "colab_type": "code",
        "colab": {}
      },
      "cell_type": "code",
      "source": [
        "file='drive/app/deeplearning.txt'\n",
        "window=1\n",
        "f=open(file,'r')\n",
        "text=f.read()\n",
        "text=re.sub('\\W+',' ',text)\n",
        "text=unicodedata.normalize('NFKD',text).encode('ascii','ignore').split(' ')\n",
        "vocab=list(set(text))\n",
        "textlen=len(text)\n",
        "vocablen=len(vocab)\n",
        "vocabdic={vocab[i]:i for i in range(vocablen)}\n",
        "ix_to_vocab={i:vocab[i] for i in range(vocablen)}\n",
        "def word_to_ix(li1,li2):\n",
        "  a=[]\n",
        "  li1.extend(li2)\n",
        "  for i in li1:\n",
        "    a.append(vocabdic[i])\n",
        "  return np.array(a)\n",
        "\n",
        "inputs=np.array([word_to_ix(text[i-window:i],text[i+1:i+window+1]) for i in range(window,textlen-window)])\n",
        "targets=np.array([word_to_ix([text[i]],[]) for i in range(window,textlen-window)])\n",
        "inputs=torch.from_numpy(inputs)\n",
        "targets=torch.from_numpy(targets)\n",
        "\n",
        "\n"
      ],
      "execution_count": 0,
      "outputs": []
    },
    {
      "metadata": {
        "id": "X1JLQwPGVkd8",
        "colab_type": "code",
        "colab": {}
      },
      "cell_type": "code",
      "source": [
        "class cbow(nn.Module):\n",
        "  def __init__(self,vocabsize,featuresize):\n",
        "    super(cbow,self).__init__()\n",
        "    self.layer1=nn.Linear(vocabsize,featuresize)\n",
        "    self.layer2=nn.Linear(featuresize,vocabsize)\n",
        "    \n",
        "  def forward(self,inputs):\n",
        "    y=torch.mean(self.layer1(inputs),dim=1,keepdim=True)\n",
        "    y=self.layer2(y)\n",
        "    return y\n",
        "      \n",
        "features=300\n",
        "cb=cbow(vocablen,features)\n"
      ],
      "execution_count": 0,
      "outputs": []
    },
    {
      "metadata": {
        "id": "Hm9eUPbdy53u",
        "colab_type": "code",
        "colab": {}
      },
      "cell_type": "code",
      "source": [
        "inlen=inputs.size()[0]\n",
        "a=torch.zeros(inlen,window*2,vocablen)\n",
        "for i in range(inlen):\n",
        "    b=torch.zeros(window*2,vocablen,dtype=torch.long)\n",
        "    for j in range(window*2):\n",
        "      b[j][inputs[i][j]]=1\n",
        "    a[i]=b\n"
      ],
      "execution_count": 0,
      "outputs": []
    },
    {
      "metadata": {
        "id": "LU1EKrSC3H3Z",
        "colab_type": "code",
        "colab": {}
      },
      "cell_type": "code",
      "source": [
        "all_loss=[]\n",
        "def train(a,targets,num_epoch=1000):\n",
        "  criterion=nn.CrossEntropyLoss()\n",
        "  optimizer=optim.Adam(cb.parameters())\n",
        "  for i in range(num_epoch):\n",
        "    optimizer.zero_grad()\n",
        "    out=cb(a)\n",
        "    out=out.view(out.size()[0],-1)\n",
        "    loss=criterion(out,targets)\n",
        "    loss.backward()\n",
        "    if i%10==0:\n",
        "      all_loss.append(loss)\n",
        "      print('loss in epoch {}:{}'.format(i,loss))\n",
        "    optimizer.step()\n",
        "    \n",
        "  \n"
      ],
      "execution_count": 0,
      "outputs": []
    },
    {
      "metadata": {
        "id": "wZcjIZCrAocS",
        "colab_type": "code",
        "colab": {}
      },
      "cell_type": "code",
      "source": [
        "\n",
        "targets=targets.view(targets.size()[0])\n",
        "\n",
        "train(a,targets)\n"
      ],
      "execution_count": 0,
      "outputs": []
    },
    {
      "metadata": {
        "id": "RDMhWJQnG7MZ",
        "colab_type": "code",
        "colab": {
          "base_uri": "https://localhost:8080/",
          "height": 347
        },
        "outputId": "7d8c9d47-abc1-46d2-8dfa-5c6d789fc280"
      },
      "cell_type": "code",
      "source": [
        "plt.ion()\n",
        "plt.figure()\n",
        "plt.plot(all_loss)\n",
        "plt.show()\n"
      ],
      "execution_count": 165,
      "outputs": [
        {
          "output_type": "display_data",
          "data": {
            "image/png": "[encoded data removed]",
            "text/plain": [
              "<matplotlib.figure.Figure at 0x7f5fa02e49d0>"
            ]
          },
          "metadata": {
            "tags": []
          }
        }
      ]
    },
    {
      "metadata": {
        "id": "__Y0N8EXId4w",
        "colab_type": "code",
        "colab": {
          "base_uri": "https://localhost:8080/",
          "height": 50
        },
        "outputId": "4b5cc5df-7fe9-4915-c071-a8ca3dd93aff"
      },
      "cell_type": "code",
      "source": [
        "def pred(context):\n",
        "  contextix=word_to_ix(context,[])\n",
        "  b=torch.zeros(1,window*2,vocablen)\n",
        "  for j in range(len(contextix)):\n",
        "    b[0][j][contextix[j]]=1\n",
        "  out=cb(b)\n",
        "  out=out.view(out.size()[2])\n",
        "  index=torch.topk(out,1)\n",
        "  outw=ix_to_vocab[index[1].item()]\n",
        "  print(outw)\n",
        "  print(' '.join(context[0:4])+' '+str(outw)+' '+' '.join(context[4:8]))\n",
        "    \n",
        "    \n",
        "pred(['deep','learning' ])\n",
        "\n"
      ],
      "execution_count": 168,
      "outputs": [
        {
          "output_type": "stream",
          "text": [
            "structured\n",
            "deep learning structured \n"
          ],
          "name": "stdout"
        }
      ]
    },
    {
      "metadata": {
        "id": "u8ND292takAj",
        "colab_type": "code",
        "colab": {}
      },
      "cell_type": "code",
      "source": [
        " Deep Learning is a new area of Machine Learning research, which has been introduced "
      ],
      "execution_count": 0,
      "outputs": []
    },
    {
      "metadata": {
        "id": "Mb5f_dbYYsgf",
        "colab_type": "code",
        "colab": {}
      },
      "cell_type": "code",
      "source": [
        ""
      ],
      "execution_count": 0,
      "outputs": []
    }
  ]
}